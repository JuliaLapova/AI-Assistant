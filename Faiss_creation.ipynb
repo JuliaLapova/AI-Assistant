{
  "nbformat": 4,
  "nbformat_minor": 0,
  "metadata": {
    "colab": {
      "provenance": [],
      "gpuType": "V100",
      "include_colab_link": true
    },
    "kernelspec": {
      "name": "python3",
      "display_name": "Python 3"
    },
    "language_info": {
      "name": "python"
    },
    "gpuClass": "standard"
  },
  "cells": [
    {
      "cell_type": "markdown",
      "metadata": {
        "id": "view-in-github",
        "colab_type": "text"
      },
      "source": [
        "<a href=\"https://colab.research.google.com/github/JuliaLapova/AI-Assistant/blob/main/Faiss_creation.ipynb\" target=\"_parent\"><img src=\"https://colab.research.google.com/assets/colab-badge.svg\" alt=\"Open In Colab\"/></a>"
      ]
    },
    {
      "cell_type": "markdown",
      "source": [
        ">[Подготовка](#scrollTo=RqMbEUHAK03C)\n",
        "\n",
        ">[Создаем индекс](#scrollTo=DZxi5hl-LC1Z)\n",
        "\n",
        ">[Пример использования](#scrollTo=t6qb2xgdKuL3)\n",
        "\n"
      ],
      "metadata": {
        "colab_type": "toc",
        "id": "7_iiUBGVLlMw"
      }
    },
    {
      "cell_type": "code",
      "source": [
        "from getpass import getpass\n",
        "OPENAI_API_KEY = getpass('Enter your OpenAI key: ')\n",
        "#OPENAI_API_KEY = 'your_key'"
      ],
      "metadata": {
        "id": "eDDLMNP6ChMF"
      },
      "execution_count": null,
      "outputs": []
    },
    {
      "cell_type": "markdown",
      "source": [
        "# Подготовка"
      ],
      "metadata": {
        "id": "RqMbEUHAK03C"
      }
    },
    {
      "cell_type": "code",
      "source": [
        "from google.colab import drive\n",
        "drive.mount('/gdrive')\n",
        "hack_dir = '/gdrive/MyDrive/ai-hacks'"
      ],
      "metadata": {
        "id": "fctyBvtLJJUa",
        "colab": {
          "base_uri": "https://localhost:8080/"
        },
        "outputId": "e8ba28b1-1562-4bd4-dabc-fef14c8e5cb2"
      },
      "execution_count": null,
      "outputs": [
        {
          "output_type": "stream",
          "name": "stdout",
          "text": [
            "Mounted at /gdrive\n"
          ]
        }
      ]
    },
    {
      "cell_type": "code",
      "execution_count": null,
      "metadata": {
        "id": "icMXn63poSKg",
        "colab": {
          "base_uri": "https://localhost:8080/"
        },
        "outputId": "b0b7f9ae-32c9-4d3b-ce19-228a34acb21c"
      },
      "outputs": [
        {
          "output_type": "stream",
          "name": "stdout",
          "text": [
            "\u001b[?25l     \u001b[90m━━━━━━━━━━━━━━━━━━━━━━━━━━━━━━━━━━━━━━━━\u001b[0m \u001b[32m0.0/1.6 MB\u001b[0m \u001b[31m?\u001b[0m eta \u001b[36m-:--:--\u001b[0m\r\u001b[2K     \u001b[91m━━━━━━━━━━━━━━━━━━━━━━━━━━━\u001b[0m\u001b[91m╸\u001b[0m\u001b[90m━━━━━━━━━━━━\u001b[0m \u001b[32m1.1/1.6 MB\u001b[0m \u001b[31m33.6 MB/s\u001b[0m eta \u001b[36m0:00:01\u001b[0m\r\u001b[2K     \u001b[90m━━━━━━━━━━━━━━━━━━━━━━━━━━━━━━━━━━━━━━━━\u001b[0m \u001b[32m1.6/1.6 MB\u001b[0m \u001b[31m31.5 MB/s\u001b[0m eta \u001b[36m0:00:00\u001b[0m\n",
            "\u001b[2K     \u001b[90m━━━━━━━━━━━━━━━━━━━━━━━━━━━━━━━━━━━━━━━━\u001b[0m \u001b[32m75.5/75.5 kB\u001b[0m \u001b[31m8.9 MB/s\u001b[0m eta \u001b[36m0:00:00\u001b[0m\n",
            "\u001b[2K     \u001b[90m━━━━━━━━━━━━━━━━━━━━━━━━━━━━━━━━━━━━━━━━\u001b[0m \u001b[32m7.5/7.5 MB\u001b[0m \u001b[31m111.9 MB/s\u001b[0m eta \u001b[36m0:00:00\u001b[0m\n",
            "\u001b[2K     \u001b[90m━━━━━━━━━━━━━━━━━━━━━━━━━━━━━━━━━━━━━━━━\u001b[0m \u001b[32m17.6/17.6 MB\u001b[0m \u001b[31m93.9 MB/s\u001b[0m eta \u001b[36m0:00:00\u001b[0m\n",
            "\u001b[2K     \u001b[90m━━━━━━━━━━━━━━━━━━━━━━━━━━━━━━━━━━━━━━\u001b[0m \u001b[32m268.8/268.8 kB\u001b[0m \u001b[31m31.4 MB/s\u001b[0m eta \u001b[36m0:00:00\u001b[0m\n",
            "\u001b[2K     \u001b[90m━━━━━━━━━━━━━━━━━━━━━━━━━━━━━━━━━━━━━━━━\u001b[0m \u001b[32m7.8/7.8 MB\u001b[0m \u001b[31m107.5 MB/s\u001b[0m eta \u001b[36m0:00:00\u001b[0m\n",
            "\u001b[2K     \u001b[90m━━━━━━━━━━━━━━━━━━━━━━━━━━━━━━━━━━━━━━━━\u001b[0m \u001b[32m1.3/1.3 MB\u001b[0m \u001b[31m90.4 MB/s\u001b[0m eta \u001b[36m0:00:00\u001b[0m\n",
            "\u001b[2K     \u001b[90m━━━━━━━━━━━━━━━━━━━━━━━━━━━━━━━━━━━━━━━━\u001b[0m \u001b[32m49.4/49.4 kB\u001b[0m \u001b[31m5.9 MB/s\u001b[0m eta \u001b[36m0:00:00\u001b[0m\n",
            "\u001b[?25h"
          ]
        }
      ],
      "source": [
        "! pip install -qqq langchain requests openai transformers faiss-cpu"
      ]
    },
    {
      "cell_type": "code",
      "source": [
        "! pip install -qqq tiktoken"
      ],
      "metadata": {
        "id": "g0OP08QaW0Xg",
        "colab": {
          "base_uri": "https://localhost:8080/"
        },
        "outputId": "14e690a2-764d-4774-f02b-651d0ae6967c"
      },
      "execution_count": null,
      "outputs": [
        {
          "output_type": "stream",
          "name": "stdout",
          "text": [
            "\u001b[?25l     \u001b[90m━━━━━━━━━━━━━━━━━━━━━━━━━━━━━━━━━━━━━━━━\u001b[0m \u001b[32m0.0/1.7 MB\u001b[0m \u001b[31m?\u001b[0m eta \u001b[36m-:--:--\u001b[0m\r\u001b[2K     \u001b[91m╸\u001b[0m\u001b[90m━━━━━━━━━━━━━━━━━━━━━━━━━━━━━━━━━━━━━━━\u001b[0m \u001b[32m0.0/1.7 MB\u001b[0m \u001b[31m1.2 MB/s\u001b[0m eta \u001b[36m0:00:02\u001b[0m\r\u001b[2K     \u001b[91m━━━━━━━━━━━━━━━━━\u001b[0m\u001b[91m╸\u001b[0m\u001b[90m━━━━━━━━━━━━━━━━━━━━━━\u001b[0m \u001b[32m0.8/1.7 MB\u001b[0m \u001b[31m11.2 MB/s\u001b[0m eta \u001b[36m0:00:01\u001b[0m\r\u001b[2K     \u001b[90m━━━━━━━━━━━━━━━━━━━━━━━━━━━━━━━━━━━━━━━━\u001b[0m \u001b[32m1.7/1.7 MB\u001b[0m \u001b[31m17.9 MB/s\u001b[0m eta \u001b[36m0:00:00\u001b[0m\n",
            "\u001b[?25h"
          ]
        }
      ]
    },
    {
      "cell_type": "code",
      "source": [
        "import os\n",
        "os.environ[\"OPENAI_API_KEY\"] = OPENAI_API_KEY"
      ],
      "metadata": {
        "id": "c_Fa6malpPy0"
      },
      "execution_count": null,
      "outputs": []
    },
    {
      "cell_type": "code",
      "source": [
        "from langchain.llms import OpenAI\n",
        "from langchain.chains.qa_with_sources import load_qa_with_sources_chain\n",
        "from langchain.docstore.document import Document\n",
        "from langchain.text_splitter import CharacterTextSplitter\n",
        "from langchain.embeddings.openai import OpenAIEmbeddings\n",
        "from langchain.vectorstores.faiss import FAISS\n",
        "import requests\n",
        "import pandas as pd"
      ],
      "metadata": {
        "id": "FUUgX0HCozbe"
      },
      "execution_count": null,
      "outputs": []
    },
    {
      "cell_type": "code",
      "source": [
        "import re\n",
        "import json\n",
        "import pandas as pd"
      ],
      "metadata": {
        "id": "FJYdnL1__MnS"
      },
      "execution_count": null,
      "outputs": []
    },
    {
      "cell_type": "code",
      "source": [
        "import requests\n",
        "from bs4 import BeautifulSoup\n",
        "import re\n",
        "import json"
      ],
      "metadata": {
        "id": "1M-j0IsZNwbW"
      },
      "execution_count": null,
      "outputs": []
    },
    {
      "cell_type": "code",
      "source": [
        "# Загрузка библиотек\n",
        "import pandas as pd\n",
        "import json\n",
        "\n",
        "# Загрузка файла CSV с данными\n",
        "data = pd.read_csv('/gdrive/MyDrive/ai-hacks/ai-hacks2.csv', sep='\\t', encoding='cp1251')\n",
        "\n",
        "# Преобразование в JSON\n",
        "json_data = data.to_json(orient=\"records\")\n",
        "\n",
        "# Запись данных в файл JSON\n",
        "with open('/gdrive/MyDrive/ai-hacks/ai-hacks2.json', 'w') as f:\n",
        "    f.write(json_data)"
      ],
      "metadata": {
        "id": "RVaLVqciAyAv"
      },
      "execution_count": null,
      "outputs": []
    },
    {
      "cell_type": "code",
      "source": [
        "with open('/gdrive/MyDrive/ai-hacks/ai-hacks2.json', 'r', encoding='utf-8') as f:\n",
        "    hacks_qa = json.load(f)\n",
        "\n",
        "hack_df = pd.DataFrame(hacks_qa)\n",
        "hack_df = hack_df.drop(columns=[\"Unnamed: 4\"])\n",
        "display(hack_df.head())"
      ],
      "metadata": {
        "colab": {
          "base_uri": "https://localhost:8080/",
          "height": 206
        },
        "id": "KfvJ6SP01NI_",
        "outputId": "6c4d4401-fe52-4510-8677-53532db5b956"
      },
      "execution_count": null,
      "outputs": [
        {
          "output_type": "display_data",
          "data": {
            "text/plain": [
              "                                            QUESTION  \\\n",
              "0  Предоставлять дополнительную меру социальной п...   \n",
              "1  Предоставлять дополнительную меру социальной п...   \n",
              "2  Предоставлять дополнительную меру социальной п...   \n",
              "3  Предоставлять дополнительную меру социальной п...   \n",
              "4  Предоставлять дополнительную меру социальной п...   \n",
              "\n",
              "                                              ANSWER  \\\n",
              "0  Заявителем является родитель (усыновитель) реб...   \n",
              "1  ребенок - гражданин РФ, имеющий место жительст...   \n",
              "2  При наличии в семье двух и более детей единовр...   \n",
              "3  Единовременная компенсационная выплата при рож...   \n",
              "4  Гражданам, дети которых находятся на полном го...   \n",
              "\n",
              "                                              SOURCE       CATEGORY  \n",
              "0  < ID_Вопроса_в_БД: 1 > Предоставлять дополните...  Детская карта  \n",
              "1  < ID_Вопроса_в_БД: 2 > Предоставлять дополните...  Детская карта  \n",
              "2  < ID_Вопроса_в_БД: 3 > Предоставлять дополните...  Детская карта  \n",
              "3  < ID_Вопроса_в_БД: 4 > Предоставлять дополните...  Детская карта  \n",
              "4  < ID_Вопроса_в_БД: 5 > Предоставлять дополните...  Детская карта  "
            ],
            "text/html": [
              "\n",
              "  <div id=\"df-c59ded7b-4d78-4336-bea7-17644a0c8e0e\" class=\"colab-df-container\">\n",
              "    <div>\n",
              "<style scoped>\n",
              "    .dataframe tbody tr th:only-of-type {\n",
              "        vertical-align: middle;\n",
              "    }\n",
              "\n",
              "    .dataframe tbody tr th {\n",
              "        vertical-align: top;\n",
              "    }\n",
              "\n",
              "    .dataframe thead th {\n",
              "        text-align: right;\n",
              "    }\n",
              "</style>\n",
              "<table border=\"1\" class=\"dataframe\">\n",
              "  <thead>\n",
              "    <tr style=\"text-align: right;\">\n",
              "      <th></th>\n",
              "      <th>QUESTION</th>\n",
              "      <th>ANSWER</th>\n",
              "      <th>SOURCE</th>\n",
              "      <th>CATEGORY</th>\n",
              "    </tr>\n",
              "  </thead>\n",
              "  <tbody>\n",
              "    <tr>\n",
              "      <th>0</th>\n",
              "      <td>Предоставлять дополнительную меру социальной п...</td>\n",
              "      <td>Заявителем является родитель (усыновитель) реб...</td>\n",
              "      <td>&lt; ID_Вопроса_в_БД: 1 &gt; Предоставлять дополните...</td>\n",
              "      <td>Детская карта</td>\n",
              "    </tr>\n",
              "    <tr>\n",
              "      <th>1</th>\n",
              "      <td>Предоставлять дополнительную меру социальной п...</td>\n",
              "      <td>ребенок - гражданин РФ, имеющий место жительст...</td>\n",
              "      <td>&lt; ID_Вопроса_в_БД: 2 &gt; Предоставлять дополните...</td>\n",
              "      <td>Детская карта</td>\n",
              "    </tr>\n",
              "    <tr>\n",
              "      <th>2</th>\n",
              "      <td>Предоставлять дополнительную меру социальной п...</td>\n",
              "      <td>При наличии в семье двух и более детей единовр...</td>\n",
              "      <td>&lt; ID_Вопроса_в_БД: 3 &gt; Предоставлять дополните...</td>\n",
              "      <td>Детская карта</td>\n",
              "    </tr>\n",
              "    <tr>\n",
              "      <th>3</th>\n",
              "      <td>Предоставлять дополнительную меру социальной п...</td>\n",
              "      <td>Единовременная компенсационная выплата при рож...</td>\n",
              "      <td>&lt; ID_Вопроса_в_БД: 4 &gt; Предоставлять дополните...</td>\n",
              "      <td>Детская карта</td>\n",
              "    </tr>\n",
              "    <tr>\n",
              "      <th>4</th>\n",
              "      <td>Предоставлять дополнительную меру социальной п...</td>\n",
              "      <td>Гражданам, дети которых находятся на полном го...</td>\n",
              "      <td>&lt; ID_Вопроса_в_БД: 5 &gt; Предоставлять дополните...</td>\n",
              "      <td>Детская карта</td>\n",
              "    </tr>\n",
              "  </tbody>\n",
              "</table>\n",
              "</div>\n",
              "    <div class=\"colab-df-buttons\">\n",
              "\n",
              "  <div class=\"colab-df-container\">\n",
              "    <button class=\"colab-df-convert\" onclick=\"convertToInteractive('df-c59ded7b-4d78-4336-bea7-17644a0c8e0e')\"\n",
              "            title=\"Convert this dataframe to an interactive table.\"\n",
              "            style=\"display:none;\">\n",
              "\n",
              "  <svg xmlns=\"http://www.w3.org/2000/svg\" height=\"24px\" viewBox=\"0 -960 960 960\">\n",
              "    <path d=\"M120-120v-720h720v720H120Zm60-500h600v-160H180v160Zm220 220h160v-160H400v160Zm0 220h160v-160H400v160ZM180-400h160v-160H180v160Zm440 0h160v-160H620v160ZM180-180h160v-160H180v160Zm440 0h160v-160H620v160Z\"/>\n",
              "  </svg>\n",
              "    </button>\n",
              "\n",
              "  <style>\n",
              "    .colab-df-container {\n",
              "      display:flex;\n",
              "      gap: 12px;\n",
              "    }\n",
              "\n",
              "    .colab-df-convert {\n",
              "      background-color: #E8F0FE;\n",
              "      border: none;\n",
              "      border-radius: 50%;\n",
              "      cursor: pointer;\n",
              "      display: none;\n",
              "      fill: #1967D2;\n",
              "      height: 32px;\n",
              "      padding: 0 0 0 0;\n",
              "      width: 32px;\n",
              "    }\n",
              "\n",
              "    .colab-df-convert:hover {\n",
              "      background-color: #E2EBFA;\n",
              "      box-shadow: 0px 1px 2px rgba(60, 64, 67, 0.3), 0px 1px 3px 1px rgba(60, 64, 67, 0.15);\n",
              "      fill: #174EA6;\n",
              "    }\n",
              "\n",
              "    .colab-df-buttons div {\n",
              "      margin-bottom: 4px;\n",
              "    }\n",
              "\n",
              "    [theme=dark] .colab-df-convert {\n",
              "      background-color: #3B4455;\n",
              "      fill: #D2E3FC;\n",
              "    }\n",
              "\n",
              "    [theme=dark] .colab-df-convert:hover {\n",
              "      background-color: #434B5C;\n",
              "      box-shadow: 0px 1px 3px 1px rgba(0, 0, 0, 0.15);\n",
              "      filter: drop-shadow(0px 1px 2px rgba(0, 0, 0, 0.3));\n",
              "      fill: #FFFFFF;\n",
              "    }\n",
              "  </style>\n",
              "\n",
              "    <script>\n",
              "      const buttonEl =\n",
              "        document.querySelector('#df-c59ded7b-4d78-4336-bea7-17644a0c8e0e button.colab-df-convert');\n",
              "      buttonEl.style.display =\n",
              "        google.colab.kernel.accessAllowed ? 'block' : 'none';\n",
              "\n",
              "      async function convertToInteractive(key) {\n",
              "        const element = document.querySelector('#df-c59ded7b-4d78-4336-bea7-17644a0c8e0e');\n",
              "        const dataTable =\n",
              "          await google.colab.kernel.invokeFunction('convertToInteractive',\n",
              "                                                    [key], {});\n",
              "        if (!dataTable) return;\n",
              "\n",
              "        const docLinkHtml = 'Like what you see? Visit the ' +\n",
              "          '<a target=\"_blank\" href=https://colab.research.google.com/notebooks/data_table.ipynb>data table notebook</a>'\n",
              "          + ' to learn more about interactive tables.';\n",
              "        element.innerHTML = '';\n",
              "        dataTable['output_type'] = 'display_data';\n",
              "        await google.colab.output.renderOutput(dataTable, element);\n",
              "        const docLink = document.createElement('div');\n",
              "        docLink.innerHTML = docLinkHtml;\n",
              "        element.appendChild(docLink);\n",
              "      }\n",
              "    </script>\n",
              "  </div>\n",
              "\n",
              "\n",
              "<div id=\"df-5db17ba9-b0a8-4cad-896c-8ed56a71b51e\">\n",
              "  <button class=\"colab-df-quickchart\" onclick=\"quickchart('df-5db17ba9-b0a8-4cad-896c-8ed56a71b51e')\"\n",
              "            title=\"Suggest charts.\"\n",
              "            style=\"display:none;\">\n",
              "\n",
              "<svg xmlns=\"http://www.w3.org/2000/svg\" height=\"24px\"viewBox=\"0 0 24 24\"\n",
              "     width=\"24px\">\n",
              "    <g>\n",
              "        <path d=\"M19 3H5c-1.1 0-2 .9-2 2v14c0 1.1.9 2 2 2h14c1.1 0 2-.9 2-2V5c0-1.1-.9-2-2-2zM9 17H7v-7h2v7zm4 0h-2V7h2v10zm4 0h-2v-4h2v4z\"/>\n",
              "    </g>\n",
              "</svg>\n",
              "  </button>\n",
              "\n",
              "<style>\n",
              "  .colab-df-quickchart {\n",
              "    background-color: #E8F0FE;\n",
              "    border: none;\n",
              "    border-radius: 50%;\n",
              "    cursor: pointer;\n",
              "    display: none;\n",
              "    fill: #1967D2;\n",
              "    height: 32px;\n",
              "    padding: 0 0 0 0;\n",
              "    width: 32px;\n",
              "  }\n",
              "\n",
              "  .colab-df-quickchart:hover {\n",
              "    background-color: #E2EBFA;\n",
              "    box-shadow: 0px 1px 2px rgba(60, 64, 67, 0.3), 0px 1px 3px 1px rgba(60, 64, 67, 0.15);\n",
              "    fill: #174EA6;\n",
              "  }\n",
              "\n",
              "  [theme=dark] .colab-df-quickchart {\n",
              "    background-color: #3B4455;\n",
              "    fill: #D2E3FC;\n",
              "  }\n",
              "\n",
              "  [theme=dark] .colab-df-quickchart:hover {\n",
              "    background-color: #434B5C;\n",
              "    box-shadow: 0px 1px 3px 1px rgba(0, 0, 0, 0.15);\n",
              "    filter: drop-shadow(0px 1px 2px rgba(0, 0, 0, 0.3));\n",
              "    fill: #FFFFFF;\n",
              "  }\n",
              "</style>\n",
              "\n",
              "  <script>\n",
              "    async function quickchart(key) {\n",
              "      const charts = await google.colab.kernel.invokeFunction(\n",
              "          'suggestCharts', [key], {});\n",
              "    }\n",
              "    (() => {\n",
              "      let quickchartButtonEl =\n",
              "        document.querySelector('#df-5db17ba9-b0a8-4cad-896c-8ed56a71b51e button');\n",
              "      quickchartButtonEl.style.display =\n",
              "        google.colab.kernel.accessAllowed ? 'block' : 'none';\n",
              "    })();\n",
              "  </script>\n",
              "</div>\n",
              "    </div>\n",
              "  </div>\n"
            ]
          },
          "metadata": {}
        }
      ]
    },
    {
      "cell_type": "code",
      "source": [
        "hack_df.sample(4)"
      ],
      "metadata": {
        "colab": {
          "base_uri": "https://localhost:8080/",
          "height": 175
        },
        "id": "mq2KjpqLzuJ_",
        "outputId": "1062aaa4-ae1e-4f35-de4a-45de0fca3fd7"
      },
      "execution_count": null,
      "outputs": [
        {
          "output_type": "execute_result",
          "data": {
            "text/plain": [
              "                                              QUESTION  \\\n",
              "397  Предоставлять меры социальной поддержки выпуск...   \n",
              "55   Предоставлять меру социальной поддержки детям-...   \n",
              "363  Зачислять в образовательные организации, реали...   \n",
              "394  Предоставлять меры социальной поддержки выпуск...   \n",
              "\n",
              "                                                ANSWER  \\\n",
              "397  отсутствие у заявителя права на предоставление...   \n",
              "55   Да. Документы (сведения) о регистрации ребенка...   \n",
              "363  Документ, удостоверяющий личность заявителя:\\n...   \n",
              "394  документ, удостоверяющий личность доверенного ...   \n",
              "\n",
              "                                                SOURCE  \\\n",
              "397  < ID_Вопроса_в_БД: 398 > Предоставлять меры со...   \n",
              "55   < ID_Вопроса_в_БД: 56 > Предоставлять меру соц...   \n",
              "363  < ID_Вопроса_в_БД: 364 > Зачислять в образоват...   \n",
              "394  < ID_Вопроса_в_БД: 395 > Предоставлять меры со...   \n",
              "\n",
              "                                              CATEGORY  \n",
              "397  Сироты, денежное пособие сиротам,  покупка одежды  \n",
              "55                                                None  \n",
              "363                                Школа, первый класс  \n",
              "394  Сироты, денежное пособие сиротам,  покупка одежды  "
            ],
            "text/html": [
              "\n",
              "  <div id=\"df-f3679362-def1-439c-aa93-03f1919a35ec\" class=\"colab-df-container\">\n",
              "    <div>\n",
              "<style scoped>\n",
              "    .dataframe tbody tr th:only-of-type {\n",
              "        vertical-align: middle;\n",
              "    }\n",
              "\n",
              "    .dataframe tbody tr th {\n",
              "        vertical-align: top;\n",
              "    }\n",
              "\n",
              "    .dataframe thead th {\n",
              "        text-align: right;\n",
              "    }\n",
              "</style>\n",
              "<table border=\"1\" class=\"dataframe\">\n",
              "  <thead>\n",
              "    <tr style=\"text-align: right;\">\n",
              "      <th></th>\n",
              "      <th>QUESTION</th>\n",
              "      <th>ANSWER</th>\n",
              "      <th>SOURCE</th>\n",
              "      <th>CATEGORY</th>\n",
              "    </tr>\n",
              "  </thead>\n",
              "  <tbody>\n",
              "    <tr>\n",
              "      <th>397</th>\n",
              "      <td>Предоставлять меры социальной поддержки выпуск...</td>\n",
              "      <td>отсутствие у заявителя права на предоставление...</td>\n",
              "      <td>&lt; ID_Вопроса_в_БД: 398 &gt; Предоставлять меры со...</td>\n",
              "      <td>Сироты, денежное пособие сиротам,  покупка одежды</td>\n",
              "    </tr>\n",
              "    <tr>\n",
              "      <th>55</th>\n",
              "      <td>Предоставлять меру социальной поддержки детям-...</td>\n",
              "      <td>Да. Документы (сведения) о регистрации ребенка...</td>\n",
              "      <td>&lt; ID_Вопроса_в_БД: 56 &gt; Предоставлять меру соц...</td>\n",
              "      <td>None</td>\n",
              "    </tr>\n",
              "    <tr>\n",
              "      <th>363</th>\n",
              "      <td>Зачислять в образовательные организации, реали...</td>\n",
              "      <td>Документ, удостоверяющий личность заявителя:\\n...</td>\n",
              "      <td>&lt; ID_Вопроса_в_БД: 364 &gt; Зачислять в образоват...</td>\n",
              "      <td>Школа, первый класс</td>\n",
              "    </tr>\n",
              "    <tr>\n",
              "      <th>394</th>\n",
              "      <td>Предоставлять меры социальной поддержки выпуск...</td>\n",
              "      <td>документ, удостоверяющий личность доверенного ...</td>\n",
              "      <td>&lt; ID_Вопроса_в_БД: 395 &gt; Предоставлять меры со...</td>\n",
              "      <td>Сироты, денежное пособие сиротам,  покупка одежды</td>\n",
              "    </tr>\n",
              "  </tbody>\n",
              "</table>\n",
              "</div>\n",
              "    <div class=\"colab-df-buttons\">\n",
              "\n",
              "  <div class=\"colab-df-container\">\n",
              "    <button class=\"colab-df-convert\" onclick=\"convertToInteractive('df-f3679362-def1-439c-aa93-03f1919a35ec')\"\n",
              "            title=\"Convert this dataframe to an interactive table.\"\n",
              "            style=\"display:none;\">\n",
              "\n",
              "  <svg xmlns=\"http://www.w3.org/2000/svg\" height=\"24px\" viewBox=\"0 -960 960 960\">\n",
              "    <path d=\"M120-120v-720h720v720H120Zm60-500h600v-160H180v160Zm220 220h160v-160H400v160Zm0 220h160v-160H400v160ZM180-400h160v-160H180v160Zm440 0h160v-160H620v160ZM180-180h160v-160H180v160Zm440 0h160v-160H620v160Z\"/>\n",
              "  </svg>\n",
              "    </button>\n",
              "\n",
              "  <style>\n",
              "    .colab-df-container {\n",
              "      display:flex;\n",
              "      gap: 12px;\n",
              "    }\n",
              "\n",
              "    .colab-df-convert {\n",
              "      background-color: #E8F0FE;\n",
              "      border: none;\n",
              "      border-radius: 50%;\n",
              "      cursor: pointer;\n",
              "      display: none;\n",
              "      fill: #1967D2;\n",
              "      height: 32px;\n",
              "      padding: 0 0 0 0;\n",
              "      width: 32px;\n",
              "    }\n",
              "\n",
              "    .colab-df-convert:hover {\n",
              "      background-color: #E2EBFA;\n",
              "      box-shadow: 0px 1px 2px rgba(60, 64, 67, 0.3), 0px 1px 3px 1px rgba(60, 64, 67, 0.15);\n",
              "      fill: #174EA6;\n",
              "    }\n",
              "\n",
              "    .colab-df-buttons div {\n",
              "      margin-bottom: 4px;\n",
              "    }\n",
              "\n",
              "    [theme=dark] .colab-df-convert {\n",
              "      background-color: #3B4455;\n",
              "      fill: #D2E3FC;\n",
              "    }\n",
              "\n",
              "    [theme=dark] .colab-df-convert:hover {\n",
              "      background-color: #434B5C;\n",
              "      box-shadow: 0px 1px 3px 1px rgba(0, 0, 0, 0.15);\n",
              "      filter: drop-shadow(0px 1px 2px rgba(0, 0, 0, 0.3));\n",
              "      fill: #FFFFFF;\n",
              "    }\n",
              "  </style>\n",
              "\n",
              "    <script>\n",
              "      const buttonEl =\n",
              "        document.querySelector('#df-f3679362-def1-439c-aa93-03f1919a35ec button.colab-df-convert');\n",
              "      buttonEl.style.display =\n",
              "        google.colab.kernel.accessAllowed ? 'block' : 'none';\n",
              "\n",
              "      async function convertToInteractive(key) {\n",
              "        const element = document.querySelector('#df-f3679362-def1-439c-aa93-03f1919a35ec');\n",
              "        const dataTable =\n",
              "          await google.colab.kernel.invokeFunction('convertToInteractive',\n",
              "                                                    [key], {});\n",
              "        if (!dataTable) return;\n",
              "\n",
              "        const docLinkHtml = 'Like what you see? Visit the ' +\n",
              "          '<a target=\"_blank\" href=https://colab.research.google.com/notebooks/data_table.ipynb>data table notebook</a>'\n",
              "          + ' to learn more about interactive tables.';\n",
              "        element.innerHTML = '';\n",
              "        dataTable['output_type'] = 'display_data';\n",
              "        await google.colab.output.renderOutput(dataTable, element);\n",
              "        const docLink = document.createElement('div');\n",
              "        docLink.innerHTML = docLinkHtml;\n",
              "        element.appendChild(docLink);\n",
              "      }\n",
              "    </script>\n",
              "  </div>\n",
              "\n",
              "    </div>\n",
              "  </div>\n"
            ]
          },
          "metadata": {},
          "execution_count": 15
        }
      ]
    },
    {
      "cell_type": "markdown",
      "source": [
        "# Создаем индекс"
      ],
      "metadata": {
        "id": "DZxi5hl-LC1Z"
      }
    },
    {
      "cell_type": "code",
      "source": [
        "sources = [Document(page_content=' '.join([str(item) if item is not None else '' for item in row.tolist()[:2]]), metadata={\"source\": row.tolist()[2]}) for i, row in hack_df.iterrows()]"
      ],
      "metadata": {
        "id": "TslDTyyp2sep"
      },
      "execution_count": null,
      "outputs": []
    },
    {
      "cell_type": "code",
      "source": [
        "for source in sources:\n",
        "  print(type(source), source.metadata)\n",
        "  break"
      ],
      "metadata": {
        "colab": {
          "base_uri": "https://localhost:8080/"
        },
        "id": "ZbG5gybJAfTi",
        "outputId": "ab00f60f-3c4a-4119-c38f-960ad95a3b3b"
      },
      "execution_count": null,
      "outputs": [
        {
          "output_type": "stream",
          "name": "stdout",
          "text": [
            "<class 'langchain.schema.document.Document'> {'source': '< ID_Вопроса_в_БД: 1 > Предоставлять дополнительную меру социальной поддержки в виде единовременной компенсационной выплаты при рождении ребенка (усыновлении в возрасте до шести месяцев) для приобретения предметов детского ассортимента и продуктов детского питания'}\n"
          ]
        }
      ]
    },
    {
      "cell_type": "code",
      "source": [
        "#@markdown faiss index creating\n",
        "\n",
        "source_chunks = []\n",
        "splitter = CharacterTextSplitter(separator=\" \", chunk_size=512, chunk_overlap=0)\n",
        "for source in sources:\n",
        "    for chunk in splitter.split_text(source.page_content):\n",
        "         source_chunks.append(Document(page_content=chunk, metadata=source.metadata))\n",
        "\n",
        "search_index = FAISS.from_documents(source_chunks, OpenAIEmbeddings())"
      ],
      "metadata": {
        "id": "nHSNg1cfsSYe"
      },
      "execution_count": null,
      "outputs": []
    },
    {
      "cell_type": "code",
      "source": [
        "#@markdown faiss index saving\n",
        "search_index.save_local(\"/gdrive/MyDrive/ai-hacks/\")"
      ],
      "metadata": {
        "id": "3b2Y5spJCZUR"
      },
      "execution_count": null,
      "outputs": []
    },
    {
      "cell_type": "code",
      "source": [
        "#@markdown copy faiss index to gdrive\n",
        "# ! cp \"/gdrive/MyDrive/ai-hacks/\" $hack_dir -r"
      ],
      "metadata": {
        "id": "RlP0vl-wKQqX"
      },
      "execution_count": null,
      "outputs": []
    },
    {
      "cell_type": "code",
      "source": [
        "search_index = FAISS.load_local(folder_path=\"/gdrive/MyDrive/ai-hacks/\", embeddings=OpenAIEmbeddings())"
      ],
      "metadata": {
        "id": "n5k7VK8pljJ8"
      },
      "execution_count": null,
      "outputs": []
    },
    {
      "cell_type": "code",
      "source": [
        "chain = load_qa_with_sources_chain(OpenAI(temperature=0.1, max_tokens=512))\n",
        "\n",
        "def clean_question(q):\n",
        "    q = q.replace(\"меня\", \"человека\")\\\n",
        "    .replace(\"мне\", \"человеку\")\\\n",
        "    .replace(\"я\", \"человек\")\\\n",
        "    .replace(\"мной\", \"человеком\")\n",
        "    return q\n",
        "\n",
        "def edit_answer(a):\n",
        "    try:\n",
        "        for splitter in ['SOURCES: ', 'SOURCES:\\n', 'SOURCES:']:\n",
        "            if splitter in a:\n",
        "                break\n",
        "        a, sources = a.split(splitter)\n",
        "        sources = sources\\\n",
        "        .replace('\\n\\n', ',')\\\n",
        "        .replace('\\n', ',')\\\n",
        "        .replace('[', '')\\\n",
        "        .replace(']', '')\\\n",
        "        .split(',')\n",
        "        if len(sources) == 0:\n",
        "            return a, ['https://www.google.com',]\n",
        "        elif type(sources) is str:\n",
        "            return a, [sources,]\n",
        "        return a, sources\n",
        "    except Exception as e:\n",
        "        a, sources = a, ['https://www.google.com',]\n",
        "        print(e)\n",
        "        return a, sources\n",
        "\n",
        "def get_answer(question, verbose=False):\n",
        "    answer = (\n",
        "        chain(\n",
        "            {\n",
        "                \"input_documents\": search_index.similarity_search(question, k=3),\n",
        "                \"question\": clean_question(question),\n",
        "            },\n",
        "            return_only_outputs=False,\n",
        "        )[\"output_text\"]\n",
        "    )\n",
        "    print(answer) if verbose else None\n",
        "    answer, sources = edit_answer(answer)\n",
        "    return answer, sources\n",
        "\n",
        "def print_answer(question, verbose=False):\n",
        "    answer, sources = get_answer(question, verbose=verbose)\n",
        "    print(\"\\033[095mОТВЕТ: \\033[0m\", answer)\n",
        "    print(\"\\n\\033[095mИСТОЧНИКИ: \\033[0m\")\n",
        "    for s in sources:\n",
        "        print(s)\n",
        "\n",
        "# edit_answer(test)"
      ],
      "metadata": {
        "id": "6XUK7Rlwrto6"
      },
      "execution_count": null,
      "outputs": []
    },
    {
      "cell_type": "markdown",
      "source": [
        "# Пример использования"
      ],
      "metadata": {
        "id": "t6qb2xgdKuL3"
      }
    },
    {
      "cell_type": "code",
      "source": [
        "question = \"Прием документов для предоставления мер социальной поддержки в виде единовременного пособия при передаче ребенка на воспитание в семью_Какой результат предоставления услуги?\"\n",
        "c = search_index.similarity_search(question, k=4)"
      ],
      "metadata": {
        "id": "8B8bH6m7haSn"
      },
      "execution_count": null,
      "outputs": []
    },
    {
      "cell_type": "code",
      "source": [
        "[s.metadata['source'] for s in c]"
      ],
      "metadata": {
        "colab": {
          "base_uri": "https://localhost:8080/"
        },
        "id": "LbIHfuShtKH4",
        "outputId": "99ab14dc-3aaf-443d-8021-2e4f85e386f7"
      },
      "execution_count": null,
      "outputs": [
        {
          "output_type": "execute_result",
          "data": {
            "text/plain": [
              "['< ID_Вопроса_в_БД: 80 > Прием документов для предоставления мер социальной поддержки в виде единовременного пособия при передаче ребенка на воспитание в семью',\n",
              " '< ID_Вопроса_в_БД: 88 > Прием документов для предоставления мер социальной поддержки в виде единовременного пособия при передаче ребенка на воспитание в семью',\n",
              " '< ID_Вопроса_в_БД: 87 > Прием документов для предоставления мер социальной поддержки в виде единовременного пособия при передаче ребенка на воспитание в семью',\n",
              " '< ID_Вопроса_в_БД: 78 > Прием документов для предоставления мер социальной поддержки в виде единовременного пособия при передаче ребенка на воспитание в семью']"
            ]
          },
          "metadata": {},
          "execution_count": 24
        }
      ]
    },
    {
      "cell_type": "code",
      "source": [
        "import openai\n",
        "\n",
        "def remove_weird_tags(text):\n",
        "    cleaned_text = re.sub(r'[\\xa0]', ' ', text)\n",
        "    return cleaned_text\n",
        "\n",
        "def extract_sources(context):\n",
        "    metadata = [s.metadata['source'] for s in context]\n",
        "    sources = []\n",
        "    for s in metadata:\n",
        "        if type(s) is list:\n",
        "            for ss in s:\n",
        "                if ss not in sources:\n",
        "                    sources.append(ss)\n",
        "        elif type(s) is str:\n",
        "            if s not in sources:\n",
        "                sources.append(s)\n",
        "    return sources\n",
        "\n",
        "def get_context(question):\n",
        "    context = search_index.similarity_search(question, k=3)\n",
        "    sources = extract_sources(context)\n",
        "    context = [remove_weird_tags(d.page_content) for d in context if len(d.page_content) > 20]\n",
        "    context = '\\n\\n###\\n\\n'.join(context)\n",
        "    return context, sources\n",
        "\n",
        "def answer_with_openai(question, verbose=False):\n",
        "    context, sources = get_context(question)\n",
        "    print(context) if verbose else None\n",
        "    answer = answer_with_context(question, context)\n",
        "    print(answer) if verbose else None\n",
        "    print(sources) if verbose else None\n",
        "    return answer, sources\n",
        "\n",
        "def print_openai_answer(question, verbose=False):\n",
        "    answer, sources = answer_with_openai(question, verbose=verbose)\n",
        "    print(\"\\033[095mОТВЕТ: \\033[0m\", answer)\n",
        "    print(\"\\n\\033[095mИСТОЧНИКИ: \\033[0m\")\n",
        "    for s in sources:\n",
        "        print(s)\n",
        "\n",
        "def answer_with_context(\n",
        "    question,\n",
        "    context,\n",
        "    model=\"gpt-4\", #    model=\"gpt-3.5-turbo\",\n",
        "    max_tokens=2400,\n",
        "    stop_sequence=None\n",
        "):\n",
        "    task = \"Answer the question based on the context below, you can think on English but return answer in Russian\\n\\n\"\n",
        "    info = f\"Context: {context}\\n\\n---\\n\\nQuestion: {question}\\nAnswer:\"\n",
        "    messages = [{\"role\": \"system\", \"content\": f\"{task}{info}\"}]\n",
        "    try:\n",
        "        # Create a completions using the question and context\n",
        "        completion = openai.ChatCompletion.create(\n",
        "            messages=messages,\n",
        "            temperature=0.02,\n",
        "            max_tokens=max_tokens,\n",
        "            top_p=1,\n",
        "            frequency_penalty=0,\n",
        "            presence_penalty=0,\n",
        "            model=model,\n",
        "        )\n",
        "        return completion['choices'][0]['message']['content'].strip()\n",
        "    except Exception as e:\n",
        "        print(\"[ERROR]\", e)\n",
        "        return \"\""
      ],
      "metadata": {
        "id": "N1hmZ2Apr3Lg"
      },
      "execution_count": null,
      "outputs": []
    },
    {
      "cell_type": "code",
      "source": [
        "%%time\n",
        "print_openai_answer('Какой результат предоставления услуги по предоставлению мер социальной поддержки в виде единовременного пособия при передаче ребенка на воспитание в семью?', verbose=True)"
      ],
      "metadata": {
        "colab": {
          "base_uri": "https://localhost:8080/"
        },
        "id": "1WsIgdeE2tAg",
        "outputId": "20fb6592-ef89-4318-96e4-91ee80ef5dbc"
      },
      "execution_count": null,
      "outputs": [
        {
          "output_type": "stream",
          "name": "stdout",
          "text": [
            "Прием документов для предоставления мер социальной поддержки в виде единовременного пособия при передаче ребенка на воспитание в семью_При передачи нескольких детей в семью на кого оформлять обращение? При передаче на воспитание в семью двух и более детей пособие выплачивается на каждого ребенка.\n",
            "\n",
            "###\n",
            "\n",
            "Прием документов для предоставления мер социальной поддержки в виде единовременного пособия при передаче ребенка на воспитание в семью_Какой результат предоставления услуги? 1. Принятие решения о назначении единовременного пособия при передаче ребенка на воспитание в семью.\n",
            "2. Принятие решения администрации района об отказе в предоставлении государственной услуги по назначению единовременного пособия при передаче ребенка в семью.\n",
            "3. Перечисление денежных средств на счет заявителя или посредством почтовой\n",
            "\n",
            "###\n",
            "\n",
            "Прием документов для предоставления мер социальной поддержки в виде единовременного пособия при передаче ребенка на воспитание в семью_Какие основные обстоятельства для оформления услуги? Единовременное пособие при передаче ребенка на воспитание в семью назначается, если обращение за ними последовало не позднее шести месяцев со дня вступления в законную силу решения суда об усыновлении, или со дня вынесения органом опеки и попечительства решения об установлении опеки (попечительства), или со дня заключения\n",
            "Результат предоставления услуги может быть следующим: 1. Принятие решения о назначении единовременного пособия при передаче ребенка на воспитание в семью. 2. Принятие решения администрации района об отказе в предоставлении государственной услуги по назначению единовременного пособия при передаче ребенка в семью. 3. Перечисление денежных средств на счет заявителя или посредством почтовой.\n",
            "['< ID_Вопроса_в_БД: 80 > Прием документов для предоставления мер социальной поддержки в виде единовременного пособия при передаче ребенка на воспитание в семью', '< ID_Вопроса_в_БД: 87 > Прием документов для предоставления мер социальной поддержки в виде единовременного пособия при передаче ребенка на воспитание в семью', '< ID_Вопроса_в_БД: 78 > Прием документов для предоставления мер социальной поддержки в виде единовременного пособия при передаче ребенка на воспитание в семью']\n",
            "\u001b[095mОТВЕТ: \u001b[0m Результат предоставления услуги может быть следующим: 1. Принятие решения о назначении единовременного пособия при передаче ребенка на воспитание в семью. 2. Принятие решения администрации района об отказе в предоставлении государственной услуги по назначению единовременного пособия при передаче ребенка в семью. 3. Перечисление денежных средств на счет заявителя или посредством почтовой.\n",
            "\n",
            "\u001b[095mИСТОЧНИКИ: \u001b[0m\n",
            "< ID_Вопроса_в_БД: 80 > Прием документов для предоставления мер социальной поддержки в виде единовременного пособия при передаче ребенка на воспитание в семью\n",
            "< ID_Вопроса_в_БД: 87 > Прием документов для предоставления мер социальной поддержки в виде единовременного пособия при передаче ребенка на воспитание в семью\n",
            "< ID_Вопроса_в_БД: 78 > Прием документов для предоставления мер социальной поддержки в виде единовременного пособия при передаче ребенка на воспитание в семью\n",
            "CPU times: user 58.6 ms, sys: 10.5 ms, total: 69.1 ms\n",
            "Wall time: 12.6 s\n"
          ]
        }
      ]
    },
    {
      "cell_type": "code",
      "source": [
        "%%time\n",
        "print_answer(\"Прием документов для предоставления мер социальной поддержки в виде единовременного пособия при передаче ребенка на воспитание в семью_Какой результат предоставления услуги?\", verbose=True)"
      ],
      "metadata": {
        "colab": {
          "base_uri": "https://localhost:8080/"
        },
        "id": "YQ_SHC5Nptmk",
        "outputId": "cf5e28cd-d8f5-4a0f-df8d-97c50e5ccb73"
      },
      "execution_count": null,
      "outputs": [
        {
          "output_type": "stream",
          "name": "stdout",
          "text": [
            " Результатом предоставления услуги является принятие решения о назначении единовременного пособия при передаче ребенка на воспитание в семью или принятие решения администрации района об отказе в предоставлении государственной услуги по назначению единовременного пособия при передаче ребенка в семью или перечисление денежных средств на счет заявителя или посредством почтовой.\n",
            "SOURCES: Прием документов для предоставления мер социальной поддержки в виде единовременного пособия при пере\n",
            "\u001b[095mОТВЕТ: \u001b[0m  Результатом предоставления услуги является принятие решения о назначении единовременного пособия при передаче ребенка на воспитание в семью или принятие решения администрации района об отказе в предоставлении государственной услуги по назначению единовременного пособия при передаче ребенка в семью или перечисление денежных средств на счет заявителя или посредством почтовой.\n",
            "\n",
            "\n",
            "\u001b[095mИСТОЧНИКИ: \u001b[0m\n",
            "Прием документов для предоставления мер социальной поддержки в виде единовременного пособия при пере\n",
            "CPU times: user 258 ms, sys: 12.2 ms, total: 270 ms\n",
            "Wall time: 15.7 s\n"
          ]
        }
      ]
    },
    {
      "cell_type": "code",
      "source": [
        "%%time\n",
        "print_openai_answer('Как получить загран паспорт? ', verbose=True)"
      ],
      "metadata": {
        "colab": {
          "base_uri": "https://localhost:8080/"
        },
        "id": "2iiwCQXD8Eqk",
        "outputId": "64793e63-5da8-42c9-f73f-09d107cb28d9"
      },
      "execution_count": null,
      "outputs": [
        {
          "output_type": "stream",
          "name": "stdout",
          "text": [
            "период оформления паспорта.\n",
            "\n",
            "###\n",
            "\n",
            "действительный заграничный паспорт гражданина РФ (при наличии). 5. Квитанция об уплате государственной пошлины за выдачу паспорта в размере 300 рублей. 6. При обнаружении неточности или ошибочности записей, произведенных в паспорте, подлежащем замене, дополнительно предоставляется документ, содержащий верные сведения. При этом в заявлении указываются верные сведения, в соответствии с представленными документами.\n",
            "Для получения заграничного паспорта необходимо предоставить действующий заграничный паспорт, если он есть. Также нужно оплатить государственную пошлину за выдачу паспорта в размере 300 рублей. Если в паспорте, который подлежит замене, обнаружены неточности или ошибки, необходимо предоставить дополнительный документ, содержащий верные сведения. В заявлении указываются верные сведения, в соответствии с представленными документами.\n",
            "['< ID_Вопроса_в_БД: 759 > Государственная услуга по выдаче, замене паспортов гражданина Российской Федерации, удостоверяющих личность гражданина Российской Федерации на территории Российской Федерации', '< ID_Вопроса_в_БД: 317 > Выполнение отдельных функций по предоставлению дополнительной меры социальной поддержки в виде оплаты многодетной семье, имеющей жилое помещение в многоквартирном доме на праве собственности, части взноса на капитальный ремонт общего имущества в многоквартирном доме в виде ежемесячной денежной выплаты', '< ID_Вопроса_в_БД: 764 > Государственная услуга по выдаче, замене паспортов гражданина Российской Федерации, удостоверяющих личность гражданина Российской Федерации на территории Российской Федерации']\n",
            "\u001b[095mОТВЕТ: \u001b[0m Для получения заграничного паспорта необходимо предоставить действующий заграничный паспорт, если он есть. Также нужно оплатить государственную пошлину за выдачу паспорта в размере 300 рублей. Если в паспорте, который подлежит замене, обнаружены неточности или ошибки, необходимо предоставить дополнительный документ, содержащий верные сведения. В заявлении указываются верные сведения, в соответствии с представленными документами.\n",
            "\n",
            "\u001b[095mИСТОЧНИКИ: \u001b[0m\n",
            "< ID_Вопроса_в_БД: 759 > Государственная услуга по выдаче, замене паспортов гражданина Российской Федерации, удостоверяющих личность гражданина Российской Федерации на территории Российской Федерации\n",
            "< ID_Вопроса_в_БД: 317 > Выполнение отдельных функций по предоставлению дополнительной меры социальной поддержки в виде оплаты многодетной семье, имеющей жилое помещение в многоквартирном доме на праве собственности, части взноса на капитальный ремонт общего имущества в многоквартирном доме в виде ежемесячной денежной выплаты\n",
            "< ID_Вопроса_в_БД: 764 > Государственная услуга по выдаче, замене паспортов гражданина Российской Федерации, удостоверяющих личность гражданина Российской Федерации на территории Российской Федерации\n",
            "CPU times: user 55.4 ms, sys: 8.47 ms, total: 63.8 ms\n",
            "Wall time: 11.9 s\n"
          ]
        }
      ]
    },
    {
      "cell_type": "code",
      "source": [
        "%%time\n",
        "print_openai_answer('Какой срок предоставления бесплатного проезда на междугородном транспорте к месту лечения и обратно? ', verbose=True)"
      ],
      "metadata": {
        "colab": {
          "base_uri": "https://localhost:8080/"
        },
        "id": "TYwik5uX8NJ6",
        "outputId": "3aa100c3-172b-4c25-a538-ad6d9e3caa3b"
      },
      "execution_count": null,
      "outputs": [
        {
          "output_type": "stream",
          "name": "stdout",
          "text": [
            "виде обеспечения проезда за счет средств бюджета Санкт-Петербурга в размере полной стоимости проезда к месту лечения и обратно предоставляется без ограничения количества поездок при наличии медицинских показаний.\n",
            "\n",
            "Дополнительная мера социальной поддержки по обеспечению проезда к месту отдыха и обратно за счет средств бюджета Санкт-Петербурга предоставляется один раз в год.\n",
            "\n",
            "###\n",
            "\n",
            "Государственная услуга предоставления Фондом социального страхования Российской Федерации гражданам, имеющим право на получение государственной социальной помощи в виде набора социальных услуг, государственной услуги по предоставлению при наличии медицинских показаний путевок на санаторно-курортное лечение, осуществляемое в целях профилактики основных заболеваний, и бесплатного проезда на междугородном транспорте к месту лечения и обратно_Какой срок предоставления? не позднее 10 дней с момента поступления\n",
            "\n",
            "###\n",
            "\n",
            "компенсация Денежная компенсация предоставляется в пределах следующих норм расходов на обеспечение проезда к месту лечения и обратно:\n",
            "железнодорожным транспортом - поездами дальнего следования в плацкартных вагонах или купейных вагонах в поездах любой категории, поездами пригородного сообщения;\n",
            "воздушным транспортом - самолетами в салоне экономического класса;\n",
            "морским транспортом - на местах IV категории кают судов транспортных линий;\n",
            "водным транспортом - на местах III категории кают судов транспортных\n",
            "не позднее 10 дней с момента поступления\n",
            "['< ID_Вопроса_в_БД: 431 > Предоставлять меру социальной поддержки детям-сиротам, детям, оставшимся без попечения родителей, лицам из числа детей-сирот и детей, оставшихся без попечения родителей, в виде денежной компенсации расходов на проезд к месту отдыха и обратно, к месту лечения и обратно и дополнительную меру социальной поддержки лицам, потерявшим в период обучения обоих родителей или единственного родителя, в виде денежной компенсации расходов на проезд к месту лечения и обратно', '< ID_Вопроса_в_БД: 107 > Государственная услуга предоставления Фондом социального страхования Российской Федерации гражданам, имеющим право на получение государственной социальной помощи в виде набора социальных услуг, государственной услуги по предоставлению при наличии медицинских показаний путевок на санаторно-курортное лечение, осуществляемое в целях профилактики основных заболеваний, и бесплатного проезда на междугородном транспорте к месту лечения и обратно', '< ID_Вопроса_в_БД: 432 > Предоставлять меру социальной поддержки детям-сиротам, детям, оставшимся без попечения родителей, лицам из числа детей-сирот и детей, оставшихся без попечения родителей, в виде денежной компенсации расходов на проезд к месту отдыха и обратно, к месту лечения и обратно и дополнительную меру социальной поддержки лицам, потерявшим в период обучения обоих родителей или единственного родителя, в виде денежной компенсации расходов на проезд к месту лечения и обратно']\n",
            "\u001b[095mОТВЕТ: \u001b[0m не позднее 10 дней с момента поступления\n",
            "\n",
            "\u001b[095mИСТОЧНИКИ: \u001b[0m\n",
            "< ID_Вопроса_в_БД: 431 > Предоставлять меру социальной поддержки детям-сиротам, детям, оставшимся без попечения родителей, лицам из числа детей-сирот и детей, оставшихся без попечения родителей, в виде денежной компенсации расходов на проезд к месту отдыха и обратно, к месту лечения и обратно и дополнительную меру социальной поддержки лицам, потерявшим в период обучения обоих родителей или единственного родителя, в виде денежной компенсации расходов на проезд к месту лечения и обратно\n",
            "< ID_Вопроса_в_БД: 107 > Государственная услуга предоставления Фондом социального страхования Российской Федерации гражданам, имеющим право на получение государственной социальной помощи в виде набора социальных услуг, государственной услуги по предоставлению при наличии медицинских показаний путевок на санаторно-курортное лечение, осуществляемое в целях профилактики основных заболеваний, и бесплатного проезда на междугородном транспорте к месту лечения и обратно\n",
            "< ID_Вопроса_в_БД: 432 > Предоставлять меру социальной поддержки детям-сиротам, детям, оставшимся без попечения родителей, лицам из числа детей-сирот и детей, оставшихся без попечения родителей, в виде денежной компенсации расходов на проезд к месту отдыха и обратно, к месту лечения и обратно и дополнительную меру социальной поддержки лицам, потерявшим в период обучения обоих родителей или единственного родителя, в виде денежной компенсации расходов на проезд к месту лечения и обратно\n",
            "CPU times: user 17.4 ms, sys: 3.06 ms, total: 20.4 ms\n",
            "Wall time: 2.21 s\n"
          ]
        }
      ]
    }
  ]
}